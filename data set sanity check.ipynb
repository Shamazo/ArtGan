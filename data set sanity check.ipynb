{
 "cells": [
  {
   "cell_type": "code",
   "execution_count": null,
   "metadata": {},
   "outputs": [],
   "source": [
    "from datasets import ArtDataset\n",
    "import matplotlib.pyplot as plt\n",
    "from torch.utils.data import DataLoader\n",
    "import torch\n",
    "import numpy as np"
   ]
  },
  {
   "cell_type": "code",
   "execution_count": null,
   "metadata": {},
   "outputs": [],
   "source": [
    "ds = ArtDataset(data_dir=\"C:\\\\Users\\\\hamish\\\\Documents\\\\art_gan\\\\proc_moma\")\n",
    "fig, axes = plt.subplots(nrows=4, ncols=8, figsize=(15,10), sharex=True, sharey=True)\n",
    "for idx in range(32):\n",
    "    img = ds[idx].numpy()\n",
    "    axes[idx//8 , idx % 8].imshow(np.moveaxis(img, 0, -1))\n",
    "#     fig.figsize((1,1))\n",
    "plt.show()\n",
    "axes.shape"
   ]
  },
  {
   "cell_type": "code",
   "execution_count": null,
   "metadata": {},
   "outputs": [],
   "source": [
    "art_loader = DataLoader(ds, batch_size = 32, shuffle=True)\n",
    "for batch_idx, data in enumerate(art_loader):\n",
    "#     print(data)\n",
    "    fig, axes = plt.subplots(nrows=4, ncols=8, figsize=(15,10), sharex=True, sharey=True)\n",
    "    for idx in range(32):\n",
    "        axes[idx//8 , idx % 8].imshow(data['frame'][idx])\n",
    "    #     fig.figsize((1,1))\n",
    "    plt.show()\n",
    "    break"
   ]
  },
  {
   "cell_type": "code",
   "execution_count": null,
   "metadata": {},
   "outputs": [],
   "source": []
  }
 ],
 "metadata": {
  "kernelspec": {
   "display_name": "Python 3",
   "language": "python",
   "name": "python3"
  },
  "language_info": {
   "codemirror_mode": {
    "name": "ipython",
    "version": 3
   },
   "file_extension": ".py",
   "mimetype": "text/x-python",
   "name": "python",
   "nbconvert_exporter": "python",
   "pygments_lexer": "ipython3",
   "version": "3.7.3"
  }
 },
 "nbformat": 4,
 "nbformat_minor": 2
}
