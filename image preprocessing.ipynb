{
 "cells": [
  {
   "cell_type": "code",
   "execution_count": 93,
   "metadata": {},
   "outputs": [],
   "source": [
    "import cv2\n",
    "import os \n",
    "import imageio\n",
    "from tqdm import tqdm\n",
    "import numpy as np"
   ]
  },
  {
   "cell_type": "code",
   "execution_count": 1,
   "metadata": {},
   "outputs": [],
   "source": [
    "name = \"hamish0182.png\""
   ]
  },
  {
   "cell_type": "code",
   "execution_count": 12,
   "metadata": {},
   "outputs": [
    {
     "data": {
      "text/plain": [
       "('hamish', '0182')"
      ]
     },
     "execution_count": 12,
     "metadata": {},
     "output_type": "execute_result"
    }
   ],
   "source": [
    "def get_id_artist(img_name):\n",
    "    img_name = img_name[:-4]\n",
    "    end_idx = len(img_name) -1\n",
    "    while True:\n",
    "        end_idx -=1\n",
    "        if not img_name[end_idx].isdigit():\n",
    "            end_idx += 1\n",
    "            break \n",
    "        \n",
    "    return(img_name[:end_idx], img_name[end_idx:])\n",
    "get_id_artist(name)"
   ]
  },
  {
   "cell_type": "code",
   "execution_count": 95,
   "metadata": {},
   "outputs": [],
   "source": [
    "def resize_and_save(img_name, dim, data_dir, save_dir):\n",
    "    artist, a_id = get_id_artist(img_name)\n",
    "    img_path = os.path.join(data_dir, img_name)\n",
    "    img = cv2.imread(img_path, cv2.IMREAD_UNCHANGED)\n",
    "    \n",
    "    #It is 2019 and opencv on windows can't read filesnames with unicode characters\n",
    "    if img is None:\n",
    "        stream = open(img_path, \"rb\")\n",
    "        img_bytes = bytearray(stream.read())\n",
    "        img_np = np.asarray(img_bytes, dtype=np.uint8)\n",
    "        img = cv2.imdecode(img_np, cv2.IMREAD_UNCHANGED)\n",
    "        \n",
    "    try:\n",
    "        resized_img = cv2.resize(img, dim, interpolation = cv2.INTER_LANCZOS4)\n",
    "    except:\n",
    "#         resized_img = cv2.resize(img, dim, interpolation = cv2.INTER_LANCZOS4)\n",
    "        print(img_name, img_path)\n",
    "        print(artist, a_id)\n",
    "        return\n",
    "    \n",
    "    save_path_png = os.path.join(save_dir, \"{}_{}.png\".format(artist, a_id))\n",
    "    if not os.path.exists(save_path_png):\n",
    "        if not os.path.exists(save_path_png):\n",
    "            imageio.imwrite(save_path_png, resized_img, compress_level=1)"
   ]
  },
  {
   "cell_type": "code",
   "execution_count": 96,
   "metadata": {},
   "outputs": [
    {
     "name": "stderr",
     "output_type": "stream",
     "text": [
      "100%|█████████████████████████████████████████████████████████████████████████████| 1000/1000 [00:04<00:00, 220.86it/s]\n"
     ]
    }
   ],
   "source": [
    "img_names = os.listdir(\"art_thumbs\")\n",
    "for img_name in tqdm(img_names[:1000]):\n",
    "    resize_and_save(img_name, (64, 64), data_dir=\"art_thumbs\", save_dir=\"proc_moma\")"
   ]
  }
 ],
 "metadata": {
  "kernelspec": {
   "display_name": "Python 3",
   "language": "python",
   "name": "python3"
  },
  "language_info": {
   "codemirror_mode": {
    "name": "ipython",
    "version": 3
   },
   "file_extension": ".py",
   "mimetype": "text/x-python",
   "name": "python",
   "nbconvert_exporter": "python",
   "pygments_lexer": "ipython3",
   "version": "3.6.5"
  }
 },
 "nbformat": 4,
 "nbformat_minor": 2
}
