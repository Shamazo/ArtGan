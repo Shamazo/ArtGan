{
 "cells": [
  {
   "cell_type": "code",
   "execution_count": 21,
   "metadata": {},
   "outputs": [],
   "source": [
    "import pandas as pd\n",
    "import numpy as np\n",
    "import re\n",
    "import copy \n",
    "from urllib.request import urlopen, Request\n",
    "import urllib\n",
    "import os\n",
    "import time"
   ]
  },
  {
   "cell_type": "code",
   "execution_count": 2,
   "metadata": {},
   "outputs": [
    {
     "name": "stdout",
     "output_type": "stream",
     "text": [
      " Volume in drive C is OS\n",
      " Volume Serial Number is 5285-348E\n",
      "\n",
      " Directory of C:\\Users\\hamish\\Documents\\art_gan\n",
      "\n",
      "07/10/2019  07:35 PM    <DIR>          .\n",
      "07/10/2019  07:35 PM    <DIR>          ..\n",
      "07/10/2019  07:33 PM    <DIR>          .ipynb_checkpoints\n",
      "07/09/2019  10:22 PM    <DIR>          art_fullsize\n",
      "07/10/2019  07:35 PM    <DIR>          art_thumbs\n",
      "07/09/2019  05:34 PM        57,515,597 Artworks.csv\n",
      "07/10/2019  07:35 PM            11,887 exploritory.ipynb\n",
      "07/09/2019  05:47 PM           230,942 fullsize.jpg\n",
      "07/10/2019  07:33 PM                72 met exploritory.ipynb\n",
      "07/09/2019  11:24 PM       256,749,062 MetObjects.csv\n",
      "07/09/2019  05:41 PM             6,831 thumb.jpg\n",
      "               6 File(s)    314,514,391 bytes\n",
      "               5 Dir(s)  14,668,713,984 bytes free\n"
     ]
    }
   ],
   "source": [
    "ls"
   ]
  },
  {
   "cell_type": "code",
   "execution_count": 29,
   "metadata": {},
   "outputs": [
    {
     "name": "stdout",
     "output_type": "stream",
     "text": [
      "495900\n",
      "29358\n",
      "77\n"
     ]
    }
   ],
   "source": [
    "df = pd.read_csv(\"MetObjects.csv\")\n",
    "print(len(df))\n",
    "departments = ['Drawings and Prints', 'Photographs', 'European Paintings', 'Modern and Contemporary Art']\n",
    "df = df[df['Classification'].isin(departments)]\n",
    "print(len(df))\n",
    "print(sum(df['Object Date'].isnull()))"
   ]
  },
  {
   "cell_type": "code",
   "execution_count": 18,
   "metadata": {},
   "outputs": [
    {
     "data": {
      "text/plain": [
       "Index(['Object Number', 'Is Highlight', 'Is Public Domain', 'Object ID',\n",
       "       'Department', 'Object Name', 'Title', 'Culture', 'Period', 'Dynasty',\n",
       "       'Reign', 'Portfolio', 'Artist Role', 'Artist Prefix',\n",
       "       'Artist Display Name', 'Artist Display Bio', 'Artist Suffix',\n",
       "       'Artist Alpha Sort', 'Artist Nationality', 'Artist Begin Date',\n",
       "       'Artist End Date', 'Object Date', 'Object Begin Date',\n",
       "       'Object End Date', 'Medium', 'Dimensions', 'Credit Line',\n",
       "       'Geography Type', 'City', 'State', 'County', 'Country', 'Region',\n",
       "       'Subregion', 'Locale', 'Locus', 'Excavation', 'River', 'Classification',\n",
       "       'Rights and Reproduction', 'Link Resource', 'Metadata Date',\n",
       "       'Repository', 'Tags'],\n",
       "      dtype='object')"
      ]
     },
     "execution_count": 18,
     "metadata": {},
     "output_type": "execute_result"
    }
   ],
   "source": [
    "df.columns"
   ]
  },
  {
   "cell_type": "code",
   "execution_count": 16,
   "metadata": {},
   "outputs": [
    {
     "name": "stdout",
     "output_type": "stream",
     "text": [
      "14791\n",
      "2935\n",
      "39302\n",
      "179547\n"
     ]
    }
   ],
   "source": [
    "print(len(df[df['Department']=='Modern and Contemporary Art']))\n",
    "print(len(df[df['Department']=='European Paintings']))\n",
    "print(len(df[df['Department']=='Photographs']))\n",
    "print(len(df[df['Department']=='Drawings and Prints']))"
   ]
  },
  {
   "cell_type": "code",
   "execution_count": 31,
   "metadata": {},
   "outputs": [],
   "source": [
    "def convert_date_to_int(date):\n",
    "    \n",
    "    try: \n",
    "        return int(date)\n",
    "    except:\n",
    "        pass\n",
    "    \n",
    "    indate = copy.deepcopy(date)\n",
    "    if pd.isnull(date):\n",
    "        return np.nan\n",
    "    \n",
    "    split_dates = date.split(\"–\")\n",
    "    split_dates.extend(date.split(\"-\"))\n",
    "    dates_lst = []\n",
    "    for dates in split_dates:\n",
    "        dates_lst.extend(re.findall('\\d{4}', date))\n",
    "      \n",
    "    try: \n",
    "        return int(dates_lst[0])\n",
    "    except:\n",
    "        return np.nan\n",
    "    \n",
    "df['Object Date'] = df['Object Date'].apply(lambda x: convert_date_to_int(x))"
   ]
  },
  {
   "cell_type": "code",
   "execution_count": 32,
   "metadata": {},
   "outputs": [
    {
     "name": "stdout",
     "output_type": "stream",
     "text": [
      "29358\n"
     ]
    },
    {
     "data": {
      "text/plain": [
       "27702"
      ]
     },
     "execution_count": 32,
     "metadata": {},
     "output_type": "execute_result"
    }
   ],
   "source": [
    "print(len(df))\n",
    "df = df[df['Object Date'] >= 1850]\n",
    "df = df[df['Object Date'] <= 2000]\n",
    "len(df)"
   ]
  },
  {
   "cell_type": "code",
   "execution_count": 94,
   "metadata": {},
   "outputs": [],
   "source": [
    "import six\n",
    "from user_agent import generate_user_agent\n",
    "\n",
    "def download_image(data_dir, objectid, artist_name, fail_counter):\n",
    "#     try:\n",
    "        if not isinstance(artist_name, six.string_types):\n",
    "            print(type(artist_name))\n",
    "            if np.isnan(artist_name):\n",
    "                artist_name = \"unknown\"\n",
    "        user_agent = generate_user_agent()\n",
    "        url = ('http://www.metmuseum.org/art/collection/search/' + objectid.strip())\n",
    "        res = urlopen(Request(url, headers={'User-Agent': user_agent }))\n",
    "        html = res.read().decode('utf-8')\n",
    "        \n",
    "        print(url)\n",
    "        print(html)\n",
    "        offset = html.find('\"<img id=\"artwork__image\" class=\"artwork__image\" src=\"')\n",
    "\n",
    "        if (offset == -1):\n",
    "            print(\"offset failed\")\n",
    "            return None\n",
    "        end = html[offset:].find('\" alt=\"\" itemprop=\"contentUrl\">') + offset\n",
    "\n",
    "        if (end - offset > 300):\n",
    "            image_names.append(None)\n",
    "            print(\"URL Error\")\n",
    "            return\n",
    "\n",
    "        image_link = html[offset:end]\n",
    "        print(image_link)\n",
    "        image_name = artist_name + \"_\" + str(objectid) + \".jpg\"\n",
    "        image_path = os.path.join(out_dir, image_name)\n",
    "\n",
    "        image_path = os.path.join(data_dir, image_name)\n",
    "        print(image_link)\n",
    "        if not os.path.exists(image_path):\n",
    "            time.sleep(np.random.random_sample() * 5)\n",
    "            try:\n",
    "                image_file = urllib.request.urlretrieve(image_link, image_path)\n",
    "            except:\n",
    "                print(image_link)\n",
    "#     except:\n",
    "        \n",
    "#         print(\"failed to download image\")\n",
    "#         fail_counter += 1\n",
    "        "
   ]
  },
  {
   "cell_type": "code",
   "execution_count": 96,
   "metadata": {},
   "outputs": [
    {
     "name": "stdout",
     "output_type": "stream",
     "text": [
      "<class 'float'>\n",
      "http://www.metmuseum.org/art/collection/search/14988\n",
      "<html style=\"height:100%\"><head><META NAME=\"ROBOTS\" CONTENT=\"NOINDEX, NOFOLLOW\"><meta name=\"format-detection\" content=\"telephone=no\"><meta name=\"viewport\" content=\"initial-scale=1.0\"><meta http-equiv=\"X-UA-Compatible\" content=\"IE=edge,chrome=1\"></head><body style=\"margin:0px;height:100%\"><iframe src=\"/_Incapsula_Resource?SWUDNSAI=9&xinfo=14-30961498-0%200NNN%20RT%281562808049169%200%29%20q%280%20-1%20-1%20-1%29%20r%280%20-1%29%20B12%284%2c316%2c0%29%20U18&incident_id=1169000330053873222-172615242508993054&edet=12&cinfo=04000000\" frameborder=0 width=\"100%\" height=\"100%\" marginheight=\"0px\" marginwidth=\"0px\">Request unsuccessful. Incapsula incident ID: 1169000330053873222-172615242508993054</iframe></body></html>\n",
      "offset failed\n"
     ]
    }
   ],
   "source": [
    "fail_counter = 0\n",
    "for i in range(1):\n",
    "    download_image(\"met_images\", str(df['Object ID'].iloc[i]), df['Artist Display Name'].iloc[i], fail_counter)\n",
    "# print(fail_counter)"
   ]
  }
 ],
 "metadata": {
  "kernelspec": {
   "display_name": "Python 3",
   "language": "python",
   "name": "python3"
  },
  "language_info": {
   "codemirror_mode": {
    "name": "ipython",
    "version": 3
   },
   "file_extension": ".py",
   "mimetype": "text/x-python",
   "name": "python",
   "nbconvert_exporter": "python",
   "pygments_lexer": "ipython3",
   "version": "3.7.3"
  }
 },
 "nbformat": 4,
 "nbformat_minor": 2
}
