{
 "cells": [
  {
   "cell_type": "code",
   "execution_count": 1,
   "metadata": {},
   "outputs": [],
   "source": [
    "from models import Generator, Discriminator\n",
    "import torch\n",
    "import matplotlib.pyplot as plt\n",
    "import numpy as np"
   ]
  },
  {
   "cell_type": "code",
   "execution_count": null,
   "metadata": {},
   "outputs": [],
   "source": []
  },
  {
   "cell_type": "code",
   "execution_count": 2,
   "metadata": {},
   "outputs": [],
   "source": [
    "G = Generator(latent_dim = 128, n_classes = 5, cont_dim = 5, img_size=128)"
   ]
  },
  {
   "cell_type": "code",
   "execution_count": 3,
   "metadata": {},
   "outputs": [
    {
     "name": "stdout",
     "output_type": "stream",
     "text": [
      "torch.Size([1, 131072])\n"
     ]
    },
    {
     "name": "stderr",
     "output_type": "stream",
     "text": [
      "Clipping input data to the valid range for imshow with RGB data ([0..1] for floats or [0..255] for integers).\n"
     ]
    },
    {
     "name": "stdout",
     "output_type": "stream",
     "text": [
      "(128, 128, 3)\n",
      "[[[-2.10452639e-03  1.54978421e-03 -1.51893264e-03]\n",
      "  [-3.81580926e-03  5.86663780e-04 -1.25037627e-02]\n",
      "  [-8.30107648e-03  1.71505124e-03 -1.47820953e-02]\n",
      "  ...\n",
      "  [-2.89805187e-03 -2.49550701e-03 -1.17255831e-02]\n",
      "  [-3.20502580e-03 -5.29948995e-03 -7.86132179e-03]\n",
      "  [-3.19435564e-03 -7.62522547e-03  4.94817505e-03]]\n",
      "\n",
      " [[ 1.21977262e-03  6.44103438e-03  5.75766840e-04]\n",
      "  [-3.75532405e-03  4.43509128e-03 -1.25529431e-02]\n",
      "  [-5.15128346e-03  3.70378396e-03 -9.72339604e-03]\n",
      "  ...\n",
      "  [-1.57305803e-02  1.97316497e-03 -1.62197612e-02]\n",
      "  [-1.77620798e-02 -1.04525650e-03 -1.43195074e-02]\n",
      "  [-1.33806979e-02  2.96539022e-03 -4.86550294e-03]]\n",
      "\n",
      " [[ 1.92788756e-03  3.05399694e-03  1.31686882e-03]\n",
      "  [-4.83788969e-03  1.40475249e-03 -1.16845118e-02]\n",
      "  [-7.97081552e-03  1.81975670e-03 -1.10410219e-02]\n",
      "  ...\n",
      "  [-6.57083327e-03  1.85136939e-03 -1.69677287e-02]\n",
      "  [-5.22993132e-03 -3.82092898e-03 -9.75878164e-03]\n",
      "  [-8.46906286e-03  3.74549162e-03 -9.13142459e-04]]\n",
      "\n",
      " ...\n",
      "\n",
      " [[-1.04395589e-02  1.02962563e-02  9.84499697e-03]\n",
      "  [-1.67760737e-02  1.35503653e-02  4.75496380e-03]\n",
      "  [-1.23650329e-02  1.07298400e-02  9.31094692e-04]\n",
      "  ...\n",
      "  [-1.28403809e-02 -4.41957451e-03 -3.37883830e-05]\n",
      "  [-6.79091550e-03 -2.40126811e-03  8.76034237e-03]\n",
      "  [-4.86999284e-03 -1.94683182e-03  3.58037138e-03]]\n",
      "\n",
      " [[-5.80179831e-03  6.58127153e-03  8.66127200e-03]\n",
      "  [-1.36495754e-02  8.87350645e-03  1.40809407e-03]\n",
      "  [-3.35712312e-03  4.33286326e-03  3.59147275e-03]\n",
      "  ...\n",
      "  [-3.91543517e-03 -2.69522890e-04  8.22412595e-03]\n",
      "  [ 1.15606352e-03  1.64444733e-03  1.01604369e-02]\n",
      "  [ 1.18653721e-03  7.36080110e-04  5.45940548e-03]]\n",
      "\n",
      " [[-4.17120382e-03 -1.87265687e-06  2.61773216e-03]\n",
      "  [-1.25770485e-02  2.86666583e-03 -6.75885181e-04]\n",
      "  [-8.48119333e-03  7.06080464e-04 -5.27507917e-04]\n",
      "  ...\n",
      "  [-1.05954949e-02  1.10396696e-03  9.01287235e-03]\n",
      "  [-9.50225629e-03  4.33121622e-03  1.00966180e-02]\n",
      "  [-6.32484816e-03  2.44952948e-03  7.72123411e-03]]]\n"
     ]
    },
    {
     "data": {
      "image/png": "[encoded data removed]",
      "text/plain": [
       "<Figure size 432x288 with 1 Axes>"
      ]
     },
     "metadata": {
      "needs_background": "light"
     },
     "output_type": "display_data"
    }
   ],
   "source": [
    "noise = torch.rand(128).reshape(1, -1)\n",
    "labels = torch.rand(5).reshape(1, -1)\n",
    "cont_dim = torch.rand(5).reshape(1, -1)\n",
    "img = G.forward(noise, labels, cont_dim).detach().numpy()\n",
    "\n",
    "img = img.reshape(3, 128, 128)\n",
    "img = np.moveaxis(img, 0, -1)\n",
    "print(img.shape)\n",
    "plt.imshow(img)\n",
    "print(img)"
   ]
  },
  {
   "cell_type": "code",
   "execution_count": 4,
   "metadata": {},
   "outputs": [],
   "source": [
    "D = Discriminator(latent_dim = 128, n_classes = 5, cont_dim = 5, img_size=128)"
   ]
  },
  {
   "cell_type": "code",
   "execution_count": 5,
   "metadata": {},
   "outputs": [
    {
     "name": "stdout",
     "output_type": "stream",
     "text": [
      "torch.Size([1, 131072])\n"
     ]
    },
    {
     "name": "stderr",
     "output_type": "stream",
     "text": [
      "C:\\Users\\hamish\\.julia\\conda\\3\\lib\\site-packages\\torch\\nn\\modules\\container.py:92: UserWarning: Implicit dimension choice for softmax has been deprecated. Change the call to include dim=X as an argument.\n",
      "  input = module(input)\n"
     ]
    },
    {
     "data": {
      "text/plain": [
       "(tensor([[-0.0050]], grad_fn=<AddmmBackward>),\n",
       " tensor([[0.2008, 0.2007, 0.2003, 0.1995, 0.1986]], grad_fn=<SoftmaxBackward>),\n",
       " tensor([[-0.0004, -0.0024,  0.0052,  0.0090,  0.0048]],\n",
       "        grad_fn=<AddmmBackward>))"
      ]
     },
     "execution_count": 5,
     "metadata": {},
     "output_type": "execute_result"
    }
   ],
   "source": [
    "D.forward(G.forward(noise, labels, cont_dim))"
   ]
  }
 ],
 "metadata": {
  "kernelspec": {
   "display_name": "Python 3",
   "language": "python",
   "name": "python3"
  },
  "language_info": {
   "codemirror_mode": {
    "name": "ipython",
    "version": 3
   },
   "file_extension": ".py",
   "mimetype": "text/x-python",
   "name": "python",
   "nbconvert_exporter": "python",
   "pygments_lexer": "ipython3",
   "version": "3.6.5"
  }
 },
 "nbformat": 4,
 "nbformat_minor": 2
}
